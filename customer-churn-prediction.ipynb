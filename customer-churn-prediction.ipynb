{
 "cells": [
  {
   "cell_type": "markdown",
   "id": "ff1efbb7",
   "metadata": {},
   "source": [
    "# **Customer Churn Prediction**\n",
    "\n",
    "**Manusha Fernando** | [romanfern@proton.me](mailto:romanfern@proton.me) | [GitHub](https://github.com/ROMANFern)\n"
   ]
  },
  {
   "cell_type": "markdown",
   "id": "114a3da7",
   "metadata": {},
   "source": [
    "## Importing Libraries & Loading Data\n",
    "* Imports essential libraries for data manipulation, visualization, and machine learning.\n",
    "\n",
    "* Loads the Telco Customer Churn dataset into a Pandas DataFrame.\n",
    "\n",
    "* Displays dataset structure & first few rows for initial inspection."
   ]
  },
  {
   "cell_type": "code",
   "execution_count": 1,
   "id": "709d0221",
   "metadata": {},
   "outputs": [
    {
     "name": "stdout",
     "output_type": "stream",
     "text": [
      "<class 'pandas.core.frame.DataFrame'>\n",
      "RangeIndex: 7043 entries, 0 to 7042\n",
      "Data columns (total 21 columns):\n",
      " #   Column            Non-Null Count  Dtype  \n",
      "---  ------            --------------  -----  \n",
      " 0   customerID        7043 non-null   object \n",
      " 1   gender            7043 non-null   object \n",
      " 2   SeniorCitizen     7043 non-null   int64  \n",
      " 3   Partner           7043 non-null   object \n",
      " 4   Dependents        7043 non-null   object \n",
      " 5   tenure            7043 non-null   int64  \n",
      " 6   PhoneService      7043 non-null   object \n",
      " 7   MultipleLines     7043 non-null   object \n",
      " 8   InternetService   7043 non-null   object \n",
      " 9   OnlineSecurity    7043 non-null   object \n",
      " 10  OnlineBackup      7043 non-null   object \n",
      " 11  DeviceProtection  7043 non-null   object \n",
      " 12  TechSupport       7043 non-null   object \n",
      " 13  StreamingTV       7043 non-null   object \n",
      " 14  StreamingMovies   7043 non-null   object \n",
      " 15  Contract          7043 non-null   object \n",
      " 16  PaperlessBilling  7043 non-null   object \n",
      " 17  PaymentMethod     7043 non-null   object \n",
      " 18  MonthlyCharges    7043 non-null   float64\n",
      " 19  TotalCharges      7043 non-null   object \n",
      " 20  Churn             7043 non-null   object \n",
      "dtypes: float64(1), int64(2), object(18)\n",
      "memory usage: 1.1+ MB\n"
     ]
    },
    {
     "data": {
      "text/html": [
       "<div>\n",
       "<style scoped>\n",
       "    .dataframe tbody tr th:only-of-type {\n",
       "        vertical-align: middle;\n",
       "    }\n",
       "\n",
       "    .dataframe tbody tr th {\n",
       "        vertical-align: top;\n",
       "    }\n",
       "\n",
       "    .dataframe thead th {\n",
       "        text-align: right;\n",
       "    }\n",
       "</style>\n",
       "<table border=\"1\" class=\"dataframe\">\n",
       "  <thead>\n",
       "    <tr style=\"text-align: right;\">\n",
       "      <th></th>\n",
       "      <th>customerID</th>\n",
       "      <th>gender</th>\n",
       "      <th>SeniorCitizen</th>\n",
       "      <th>Partner</th>\n",
       "      <th>Dependents</th>\n",
       "      <th>tenure</th>\n",
       "      <th>PhoneService</th>\n",
       "      <th>MultipleLines</th>\n",
       "      <th>InternetService</th>\n",
       "      <th>OnlineSecurity</th>\n",
       "      <th>...</th>\n",
       "      <th>DeviceProtection</th>\n",
       "      <th>TechSupport</th>\n",
       "      <th>StreamingTV</th>\n",
       "      <th>StreamingMovies</th>\n",
       "      <th>Contract</th>\n",
       "      <th>PaperlessBilling</th>\n",
       "      <th>PaymentMethod</th>\n",
       "      <th>MonthlyCharges</th>\n",
       "      <th>TotalCharges</th>\n",
       "      <th>Churn</th>\n",
       "    </tr>\n",
       "  </thead>\n",
       "  <tbody>\n",
       "    <tr>\n",
       "      <th>0</th>\n",
       "      <td>7590-VHVEG</td>\n",
       "      <td>Female</td>\n",
       "      <td>0</td>\n",
       "      <td>Yes</td>\n",
       "      <td>No</td>\n",
       "      <td>1</td>\n",
       "      <td>No</td>\n",
       "      <td>No phone service</td>\n",
       "      <td>DSL</td>\n",
       "      <td>No</td>\n",
       "      <td>...</td>\n",
       "      <td>No</td>\n",
       "      <td>No</td>\n",
       "      <td>No</td>\n",
       "      <td>No</td>\n",
       "      <td>Month-to-month</td>\n",
       "      <td>Yes</td>\n",
       "      <td>Electronic check</td>\n",
       "      <td>29.85</td>\n",
       "      <td>29.85</td>\n",
       "      <td>No</td>\n",
       "    </tr>\n",
       "    <tr>\n",
       "      <th>1</th>\n",
       "      <td>5575-GNVDE</td>\n",
       "      <td>Male</td>\n",
       "      <td>0</td>\n",
       "      <td>No</td>\n",
       "      <td>No</td>\n",
       "      <td>34</td>\n",
       "      <td>Yes</td>\n",
       "      <td>No</td>\n",
       "      <td>DSL</td>\n",
       "      <td>Yes</td>\n",
       "      <td>...</td>\n",
       "      <td>Yes</td>\n",
       "      <td>No</td>\n",
       "      <td>No</td>\n",
       "      <td>No</td>\n",
       "      <td>One year</td>\n",
       "      <td>No</td>\n",
       "      <td>Mailed check</td>\n",
       "      <td>56.95</td>\n",
       "      <td>1889.5</td>\n",
       "      <td>No</td>\n",
       "    </tr>\n",
       "    <tr>\n",
       "      <th>2</th>\n",
       "      <td>3668-QPYBK</td>\n",
       "      <td>Male</td>\n",
       "      <td>0</td>\n",
       "      <td>No</td>\n",
       "      <td>No</td>\n",
       "      <td>2</td>\n",
       "      <td>Yes</td>\n",
       "      <td>No</td>\n",
       "      <td>DSL</td>\n",
       "      <td>Yes</td>\n",
       "      <td>...</td>\n",
       "      <td>No</td>\n",
       "      <td>No</td>\n",
       "      <td>No</td>\n",
       "      <td>No</td>\n",
       "      <td>Month-to-month</td>\n",
       "      <td>Yes</td>\n",
       "      <td>Mailed check</td>\n",
       "      <td>53.85</td>\n",
       "      <td>108.15</td>\n",
       "      <td>Yes</td>\n",
       "    </tr>\n",
       "    <tr>\n",
       "      <th>3</th>\n",
       "      <td>7795-CFOCW</td>\n",
       "      <td>Male</td>\n",
       "      <td>0</td>\n",
       "      <td>No</td>\n",
       "      <td>No</td>\n",
       "      <td>45</td>\n",
       "      <td>No</td>\n",
       "      <td>No phone service</td>\n",
       "      <td>DSL</td>\n",
       "      <td>Yes</td>\n",
       "      <td>...</td>\n",
       "      <td>Yes</td>\n",
       "      <td>Yes</td>\n",
       "      <td>No</td>\n",
       "      <td>No</td>\n",
       "      <td>One year</td>\n",
       "      <td>No</td>\n",
       "      <td>Bank transfer (automatic)</td>\n",
       "      <td>42.30</td>\n",
       "      <td>1840.75</td>\n",
       "      <td>No</td>\n",
       "    </tr>\n",
       "    <tr>\n",
       "      <th>4</th>\n",
       "      <td>9237-HQITU</td>\n",
       "      <td>Female</td>\n",
       "      <td>0</td>\n",
       "      <td>No</td>\n",
       "      <td>No</td>\n",
       "      <td>2</td>\n",
       "      <td>Yes</td>\n",
       "      <td>No</td>\n",
       "      <td>Fiber optic</td>\n",
       "      <td>No</td>\n",
       "      <td>...</td>\n",
       "      <td>No</td>\n",
       "      <td>No</td>\n",
       "      <td>No</td>\n",
       "      <td>No</td>\n",
       "      <td>Month-to-month</td>\n",
       "      <td>Yes</td>\n",
       "      <td>Electronic check</td>\n",
       "      <td>70.70</td>\n",
       "      <td>151.65</td>\n",
       "      <td>Yes</td>\n",
       "    </tr>\n",
       "  </tbody>\n",
       "</table>\n",
       "<p>5 rows × 21 columns</p>\n",
       "</div>"
      ],
      "text/plain": [
       "   customerID  gender  SeniorCitizen Partner Dependents  tenure PhoneService  \\\n",
       "0  7590-VHVEG  Female              0     Yes         No       1           No   \n",
       "1  5575-GNVDE    Male              0      No         No      34          Yes   \n",
       "2  3668-QPYBK    Male              0      No         No       2          Yes   \n",
       "3  7795-CFOCW    Male              0      No         No      45           No   \n",
       "4  9237-HQITU  Female              0      No         No       2          Yes   \n",
       "\n",
       "      MultipleLines InternetService OnlineSecurity  ... DeviceProtection  \\\n",
       "0  No phone service             DSL             No  ...               No   \n",
       "1                No             DSL            Yes  ...              Yes   \n",
       "2                No             DSL            Yes  ...               No   \n",
       "3  No phone service             DSL            Yes  ...              Yes   \n",
       "4                No     Fiber optic             No  ...               No   \n",
       "\n",
       "  TechSupport StreamingTV StreamingMovies        Contract PaperlessBilling  \\\n",
       "0          No          No              No  Month-to-month              Yes   \n",
       "1          No          No              No        One year               No   \n",
       "2          No          No              No  Month-to-month              Yes   \n",
       "3         Yes          No              No        One year               No   \n",
       "4          No          No              No  Month-to-month              Yes   \n",
       "\n",
       "               PaymentMethod MonthlyCharges  TotalCharges Churn  \n",
       "0           Electronic check          29.85         29.85    No  \n",
       "1               Mailed check          56.95        1889.5    No  \n",
       "2               Mailed check          53.85        108.15   Yes  \n",
       "3  Bank transfer (automatic)          42.30       1840.75    No  \n",
       "4           Electronic check          70.70        151.65   Yes  \n",
       "\n",
       "[5 rows x 21 columns]"
      ]
     },
     "execution_count": 1,
     "metadata": {},
     "output_type": "execute_result"
    }
   ],
   "source": [
    "import numpy as np\n",
    "import pandas as pd\n",
    "import matplotlib.pyplot as plt\n",
    "import seaborn as sns\n",
    "from sklearn.preprocessing import MinMaxScaler\n",
    "from sklearn.model_selection import train_test_split, GridSearchCV\n",
    "from sklearn.linear_model import LogisticRegression\n",
    "from sklearn.utils.class_weight import compute_class_weight\n",
    "from sklearn.metrics import accuracy_score, precision_score, recall_score, f1_score, roc_auc_score\n",
    "from sklearn.ensemble import RandomForestClassifier\n",
    "from xgboost import XGBClassifier\n",
    "from imblearn.over_sampling import SMOTE\n",
    "\n",
    "# Load the dataset\n",
    "df = pd.read_csv(\"Telco-Customer-Churn.csv\")\n",
    "\n",
    "# Display basic info about the dataset\n",
    "df.info()\n",
    "\n",
    "# Display the first few rows\n",
    "df.head()"
   ]
  },
  {
   "cell_type": "markdown",
   "id": "aace232b",
   "metadata": {},
   "source": [
    "## Checking for Missing Values\n",
    "\n",
    "* Checks for missing values in the dataset to determine if any columns need data cleaning."
   ]
  },
  {
   "cell_type": "code",
   "execution_count": 2,
   "id": "05a76ea3",
   "metadata": {},
   "outputs": [
    {
     "name": "stdout",
     "output_type": "stream",
     "text": [
      "Missing Values:\n",
      " customerID          0\n",
      "gender              0\n",
      "SeniorCitizen       0\n",
      "Partner             0\n",
      "Dependents          0\n",
      "tenure              0\n",
      "PhoneService        0\n",
      "MultipleLines       0\n",
      "InternetService     0\n",
      "OnlineSecurity      0\n",
      "OnlineBackup        0\n",
      "DeviceProtection    0\n",
      "TechSupport         0\n",
      "StreamingTV         0\n",
      "StreamingMovies     0\n",
      "Contract            0\n",
      "PaperlessBilling    0\n",
      "PaymentMethod       0\n",
      "MonthlyCharges      0\n",
      "TotalCharges        0\n",
      "Churn               0\n",
      "dtype: int64\n"
     ]
    }
   ],
   "source": [
    "# Check for missing values\n",
    "missing_values = df.isnull().sum()\n",
    "print(\"Missing Values:\\n\", missing_values)"
   ]
  },
  {
   "cell_type": "markdown",
   "id": "eb68dc79",
   "metadata": {},
   "source": [
    "## Checking Data Types\n",
    "\n",
    "* Displays data types of all columns to identify categorical and numerical features.\n"
   ]
  },
  {
   "cell_type": "code",
   "execution_count": 3,
   "id": "0e4b2032",
   "metadata": {},
   "outputs": [
    {
     "name": "stdout",
     "output_type": "stream",
     "text": [
      "\n",
      "Data Types:\n",
      " customerID           object\n",
      "gender               object\n",
      "SeniorCitizen         int64\n",
      "Partner              object\n",
      "Dependents           object\n",
      "tenure                int64\n",
      "PhoneService         object\n",
      "MultipleLines        object\n",
      "InternetService      object\n",
      "OnlineSecurity       object\n",
      "OnlineBackup         object\n",
      "DeviceProtection     object\n",
      "TechSupport          object\n",
      "StreamingTV          object\n",
      "StreamingMovies      object\n",
      "Contract             object\n",
      "PaperlessBilling     object\n",
      "PaymentMethod        object\n",
      "MonthlyCharges      float64\n",
      "TotalCharges         object\n",
      "Churn                object\n",
      "dtype: object\n"
     ]
    }
   ],
   "source": [
    "# Check data types\n",
    "data_types = df.dtypes\n",
    "print(\"\\nData Types:\\n\", data_types)"
   ]
  },
  {
   "cell_type": "markdown",
   "id": "8823e988",
   "metadata": {},
   "source": [
    "## Converting `TotalCharges` to Numeric\n",
    "\n",
    "* Converts `TotalCharges` (originally object/string) into numeric.\n",
    "\n",
    "* Uses `errors='coerce'` to convert invalid entries to NaN.\n",
    "\n",
    "* Checks if missing values appeared due to conversion.\n"
   ]
  },
  {
   "cell_type": "code",
   "execution_count": 4,
   "id": "a694ec2d",
   "metadata": {},
   "outputs": [
    {
     "name": "stdout",
     "output_type": "stream",
     "text": [
      "\n",
      "Churn Distribution (%):\n",
      " Churn\n",
      "No     73.463013\n",
      "Yes    26.536987\n",
      "Name: proportion, dtype: float64\n"
     ]
    }
   ],
   "source": [
    "# Check class distribution (churned vs. not churned customers)\n",
    "churn_distribution = df['Churn'].value_counts(normalize=True) * 100  # Convert to percentage\n",
    "print(\"\\nChurn Distribution (%):\\n\", churn_distribution)"
   ]
  },
  {
   "cell_type": "markdown",
   "id": "f335bf49",
   "metadata": {},
   "source": [
    "## Dropping Rows with Missing `TotalCharges`\n",
    "\n",
    "* Drops rows with missing `TotalCharges` values (since there are only a few).\n",
    "\n",
    "* Resets the index after removing rows.\n"
   ]
  },
  {
   "cell_type": "code",
   "execution_count": 5,
   "id": "622651ea",
   "metadata": {},
   "outputs": [
    {
     "name": "stdout",
     "output_type": "stream",
     "text": [
      "Missing values in TotalCharges after conversion: 11\n",
      "\n",
      "Updated Data Types:\n",
      " customerID           object\n",
      "gender               object\n",
      "SeniorCitizen         int64\n",
      "Partner              object\n",
      "Dependents           object\n",
      "tenure                int64\n",
      "PhoneService         object\n",
      "MultipleLines        object\n",
      "InternetService      object\n",
      "OnlineSecurity       object\n",
      "OnlineBackup         object\n",
      "DeviceProtection     object\n",
      "TechSupport          object\n",
      "StreamingTV          object\n",
      "StreamingMovies      object\n",
      "Contract             object\n",
      "PaperlessBilling     object\n",
      "PaymentMethod        object\n",
      "MonthlyCharges      float64\n",
      "TotalCharges        float64\n",
      "Churn                object\n",
      "dtype: object\n"
     ]
    }
   ],
   "source": [
    "# Convert 'TotalCharges' to numeric, setting errors='coerce' to handle any potential issues\n",
    "df['TotalCharges'] = pd.to_numeric(df['TotalCharges'], errors='coerce')\n",
    "\n",
    "# Check if there are any missing values after conversion (this can happen if there were empty strings)\n",
    "missing_total_charges = df['TotalCharges'].isnull().sum()\n",
    "\n",
    "# Display the number of missing values in 'TotalCharges'\n",
    "print(f\"Missing values in TotalCharges after conversion: {missing_total_charges}\")\n",
    "\n",
    "# Display updated data types\n",
    "print(\"\\nUpdated Data Types:\\n\", df.dtypes)"
   ]
  },
  {
   "cell_type": "markdown",
   "id": "45f61f36",
   "metadata": {},
   "source": [
    "## Encoding Categorical Variables (`Churn` and Binary Features)\n",
    "\n",
    "* Converts `Churn` into a binary format (0/1).\n",
    "\n",
    "* Converts binary categorical features (`Yes/No`) into 0/1.\n"
   ]
  },
  {
   "cell_type": "code",
   "execution_count": 6,
   "id": "83cbd9ef",
   "metadata": {},
   "outputs": [
    {
     "name": "stdout",
     "output_type": "stream",
     "text": [
      "Missing values in TotalCharges after dropping rows: 0\n",
      "Dataset shape after dropping rows: (7032, 21)\n"
     ]
    }
   ],
   "source": [
    "# Drop rows where 'TotalCharges' is NaN\n",
    "df.dropna(subset=['TotalCharges'], inplace=True)\n",
    "\n",
    "# Reset index after dropping rows\n",
    "df.reset_index(drop=True, inplace=True)\n",
    "\n",
    "# Verify that there are no missing values left\n",
    "print(f\"Missing values in TotalCharges after dropping rows: {df['TotalCharges'].isnull().sum()}\")\n",
    "print(f\"Dataset shape after dropping rows: {df.shape}\")"
   ]
  },
  {
   "cell_type": "markdown",
   "id": "92e2aa0f",
   "metadata": {},
   "source": [
    "## One-Hot Encoding for Multi-Class Categorical Features\n",
    "\n",
    "* Encodes categorical variables using one-hot encoding.\n",
    "\n",
    "* Drops one category per feature to avoid the dummy variable trap.\n"
   ]
  },
  {
   "cell_type": "code",
   "execution_count": 7,
   "id": "0b15a469",
   "metadata": {},
   "outputs": [
    {
     "name": "stdout",
     "output_type": "stream",
     "text": [
      "   Partner  Dependents  PhoneService  PaperlessBilling  Churn\n",
      "0        1           0             0                 1      0\n",
      "1        0           0             1                 0      0\n",
      "2        0           0             1                 1      1\n",
      "3        0           0             0                 0      0\n",
      "4        0           0             1                 1      1\n"
     ]
    }
   ],
   "source": [
    "# Convert 'Churn' column to binary (0 = No, 1 = Yes)\n",
    "df['Churn'] = df['Churn'].map({'No': 0, 'Yes': 1})\n",
    "\n",
    "# Convert all binary 'Yes/No' columns to 0/1\n",
    "binary_cols = ['Partner', 'Dependents', 'PhoneService', 'PaperlessBilling']\n",
    "for col in binary_cols:\n",
    "    df[col] = df[col].map({'No': 0, 'Yes': 1})\n",
    "\n",
    "# Verify the changes\n",
    "print(df[binary_cols + ['Churn']].head())"
   ]
  },
  {
   "cell_type": "markdown",
   "id": "6efa3d1d",
   "metadata": {},
   "source": [
    "## Splitting Data into Train & Test Sets\n",
    "\n",
    "* Splits data into 80% training & 20% testing.\n",
    "\n",
    "* Uses `stratify=y` to maintain churn distribution in both sets.\n"
   ]
  },
  {
   "cell_type": "code",
   "execution_count": 8,
   "id": "dd7309b2",
   "metadata": {},
   "outputs": [
    {
     "name": "stdout",
     "output_type": "stream",
     "text": [
      "Dataset shape after encoding: (7032, 32)\n",
      "   customerID  gender  SeniorCitizen  Partner  Dependents  tenure  \\\n",
      "0  7590-VHVEG       0              0        1           0       1   \n",
      "1  5575-GNVDE       1              0        0           0      34   \n",
      "2  3668-QPYBK       1              0        0           0       2   \n",
      "3  7795-CFOCW       1              0        0           0      45   \n",
      "4  9237-HQITU       0              0        0           0       2   \n",
      "\n",
      "   PhoneService  PaperlessBilling  MonthlyCharges  TotalCharges  ...  \\\n",
      "0             0                 1           29.85         29.85  ...   \n",
      "1             1                 0           56.95       1889.50  ...   \n",
      "2             1                 1           53.85        108.15  ...   \n",
      "3             0                 0           42.30       1840.75  ...   \n",
      "4             1                 1           70.70        151.65  ...   \n",
      "\n",
      "   TechSupport_Yes  StreamingTV_No internet service  StreamingTV_Yes  \\\n",
      "0            False                            False            False   \n",
      "1            False                            False            False   \n",
      "2            False                            False            False   \n",
      "3             True                            False            False   \n",
      "4            False                            False            False   \n",
      "\n",
      "   StreamingMovies_No internet service  StreamingMovies_Yes  \\\n",
      "0                                False                False   \n",
      "1                                False                False   \n",
      "2                                False                False   \n",
      "3                                False                False   \n",
      "4                                False                False   \n",
      "\n",
      "   Contract_One year  Contract_Two year  \\\n",
      "0              False              False   \n",
      "1               True              False   \n",
      "2              False              False   \n",
      "3               True              False   \n",
      "4              False              False   \n",
      "\n",
      "   PaymentMethod_Credit card (automatic)  PaymentMethod_Electronic check  \\\n",
      "0                                  False                            True   \n",
      "1                                  False                           False   \n",
      "2                                  False                           False   \n",
      "3                                  False                           False   \n",
      "4                                  False                            True   \n",
      "\n",
      "   PaymentMethod_Mailed check  \n",
      "0                       False  \n",
      "1                        True  \n",
      "2                        True  \n",
      "3                       False  \n",
      "4                       False  \n",
      "\n",
      "[5 rows x 32 columns]\n"
     ]
    }
   ],
   "source": [
    "# Convert 'gender' into binary (0 = Female, 1 = Male)\n",
    "df['gender'] = df['gender'].map({'Female': 0, 'Male': 1})\n",
    "\n",
    "# Apply one-hot encoding to categorical variables with more than two categories\n",
    "categorical_cols = ['MultipleLines', 'InternetService', 'OnlineSecurity', 'OnlineBackup',\n",
    "                    'DeviceProtection', 'TechSupport', 'StreamingTV', 'StreamingMovies',\n",
    "                    'Contract', 'PaymentMethod']\n",
    "\n",
    "df = pd.get_dummies(df, columns=categorical_cols, drop_first=True)\n",
    "\n",
    "# Verify the changes\n",
    "print(f\"Dataset shape after encoding: {df.shape}\")\n",
    "print(df.head())"
   ]
  },
  {
   "cell_type": "markdown",
   "id": "3e8aaaed",
   "metadata": {},
   "source": [
    "## Cleaning and Preparing the Dataset\n",
    "\n",
    "* Drops the **`customerID`** column as it is not relevant for machine learning modeling.\n",
    "\n",
    "* Converts all **boolean columns** into integer format (`0` or `1`) to ensure compatibility with ML algorithms.\n",
    "\n",
    "* Applies `astype(int)` to all columns, standardizing data types for efficient processing.\n",
    "\n",
    "* Prints the **updated dataset shape** to confirm changes.\n",
    "\n",
    "* Displays the first few rows to verify that the cleaning process was executed correctly."
   ]
  },
  {
   "cell_type": "code",
   "execution_count": 9,
   "id": "cb6e98db",
   "metadata": {},
   "outputs": [
    {
     "name": "stdout",
     "output_type": "stream",
     "text": [
      "Dataset shape after cleaning: (7032, 31)\n",
      "   gender  SeniorCitizen  Partner  Dependents  tenure  PhoneService  \\\n",
      "0       0              0        1           0       1             0   \n",
      "1       1              0        0           0      34             1   \n",
      "2       1              0        0           0       2             1   \n",
      "3       1              0        0           0      45             0   \n",
      "4       0              0        0           0       2             1   \n",
      "\n",
      "   PaperlessBilling  MonthlyCharges  TotalCharges  Churn  ...  \\\n",
      "0                 1              29            29      0  ...   \n",
      "1                 0              56          1889      0  ...   \n",
      "2                 1              53           108      1  ...   \n",
      "3                 0              42          1840      0  ...   \n",
      "4                 1              70           151      1  ...   \n",
      "\n",
      "   TechSupport_Yes  StreamingTV_No internet service  StreamingTV_Yes  \\\n",
      "0                0                                0                0   \n",
      "1                0                                0                0   \n",
      "2                0                                0                0   \n",
      "3                1                                0                0   \n",
      "4                0                                0                0   \n",
      "\n",
      "   StreamingMovies_No internet service  StreamingMovies_Yes  \\\n",
      "0                                    0                    0   \n",
      "1                                    0                    0   \n",
      "2                                    0                    0   \n",
      "3                                    0                    0   \n",
      "4                                    0                    0   \n",
      "\n",
      "   Contract_One year  Contract_Two year  \\\n",
      "0                  0                  0   \n",
      "1                  1                  0   \n",
      "2                  0                  0   \n",
      "3                  1                  0   \n",
      "4                  0                  0   \n",
      "\n",
      "   PaymentMethod_Credit card (automatic)  PaymentMethod_Electronic check  \\\n",
      "0                                      0                               1   \n",
      "1                                      0                               0   \n",
      "2                                      0                               0   \n",
      "3                                      0                               0   \n",
      "4                                      0                               1   \n",
      "\n",
      "   PaymentMethod_Mailed check  \n",
      "0                           0  \n",
      "1                           1  \n",
      "2                           1  \n",
      "3                           0  \n",
      "4                           0  \n",
      "\n",
      "[5 rows x 31 columns]\n"
     ]
    }
   ],
   "source": [
    "# Drop the 'customerID' column since it's not useful for modeling\n",
    "df.drop(columns=['customerID'], inplace=True)\n",
    "\n",
    "# Convert all boolean columns to integers (0/1)\n",
    "df = df.astype(int)\n",
    "\n",
    "# Verify changes\n",
    "print(f\"Dataset shape after cleaning: {df.shape}\")\n",
    "print(df.head())"
   ]
  },
  {
   "cell_type": "markdown",
   "id": "7a9c36c8",
   "metadata": {},
   "source": [
    "## Normalizing Numerical Features\n",
    "\n",
    "* Defines Min-Max Scaler to transform numerical values into a normalized range.\n",
    "\n",
    "* Lists numerical columns (`tenure`, `MonthlyCharges`, `TotalCharges`) for scaling.\n",
    "\n",
    "* Applies Min-Max Scaling to ensure all values are within a standard range.\n",
    "\n",
    "* Verifies the transformation by displaying the updated dataset.\n"
   ]
  },
  {
   "cell_type": "code",
   "execution_count": 10,
   "id": "c8cb8a85",
   "metadata": {},
   "outputs": [
    {
     "name": "stdout",
     "output_type": "stream",
     "text": [
      "   gender  SeniorCitizen  Partner  Dependents    tenure  PhoneService  \\\n",
      "0       0              0        1           0  0.000000             0   \n",
      "1       1              0        0           0  0.464789             1   \n",
      "2       1              0        0           0  0.014085             1   \n",
      "3       1              0        0           0  0.619718             0   \n",
      "4       0              0        0           0  0.014085             1   \n",
      "\n",
      "   PaperlessBilling  MonthlyCharges  TotalCharges  Churn  ...  \\\n",
      "0                 1            0.11      0.001269      0  ...   \n",
      "1                 0            0.38      0.215901      0  ...   \n",
      "2                 1            0.35      0.010385      1  ...   \n",
      "3                 0            0.24      0.210247      0  ...   \n",
      "4                 1            0.52      0.015347      1  ...   \n",
      "\n",
      "   TechSupport_Yes  StreamingTV_No internet service  StreamingTV_Yes  \\\n",
      "0                0                                0                0   \n",
      "1                0                                0                0   \n",
      "2                0                                0                0   \n",
      "3                1                                0                0   \n",
      "4                0                                0                0   \n",
      "\n",
      "   StreamingMovies_No internet service  StreamingMovies_Yes  \\\n",
      "0                                    0                    0   \n",
      "1                                    0                    0   \n",
      "2                                    0                    0   \n",
      "3                                    0                    0   \n",
      "4                                    0                    0   \n",
      "\n",
      "   Contract_One year  Contract_Two year  \\\n",
      "0                  0                  0   \n",
      "1                  1                  0   \n",
      "2                  0                  0   \n",
      "3                  1                  0   \n",
      "4                  0                  0   \n",
      "\n",
      "   PaymentMethod_Credit card (automatic)  PaymentMethod_Electronic check  \\\n",
      "0                                      0                               1   \n",
      "1                                      0                               0   \n",
      "2                                      0                               0   \n",
      "3                                      0                               0   \n",
      "4                                      0                               1   \n",
      "\n",
      "   PaymentMethod_Mailed check  \n",
      "0                           0  \n",
      "1                           1  \n",
      "2                           1  \n",
      "3                           0  \n",
      "4                           0  \n",
      "\n",
      "[5 rows x 31 columns]\n"
     ]
    }
   ],
   "source": [
    "# Define the scaler\n",
    "scaler = MinMaxScaler()\n",
    "\n",
    "# List of numerical columns to normalize\n",
    "num_cols = ['tenure', 'MonthlyCharges', 'TotalCharges']\n",
    "\n",
    "# Apply Min-Max Scaling\n",
    "df[num_cols] = scaler.fit_transform(df[num_cols])\n",
    "\n",
    "# Verify changes\n",
    "print(df.head())"
   ]
  },
  {
   "cell_type": "markdown",
   "id": "3079bc40",
   "metadata": {},
   "source": [
    "## Handling Class Imbalance with SMOTE\n",
    "\n",
    "* Applies Synthetic Minority Over-sampling Technique (SMOTE) to balance the dataset.\n",
    "\n",
    "* Increases the number of churned customer samples to ensure better model training.\n",
    "\n",
    "* Helps improve recall by providing more churn examples for the model to learn from.\n"
   ]
  },
  {
   "cell_type": "code",
   "execution_count": 11,
   "id": "5a3f565b",
   "metadata": {},
   "outputs": [
    {
     "name": "stdout",
     "output_type": "stream",
     "text": [
      "Training Set: X_train = (5625, 30), y_train = (5625,)\n",
      "Testing Set: X_test = (1407, 30), y_test = (1407,)\n"
     ]
    }
   ],
   "source": [
    "# Define features (X) and target (y)\n",
    "X = df.drop(columns=['Churn'])  # Features (excluding target)\n",
    "y = df['Churn']  # Target variable\n",
    "\n",
    "# Split into training (80%) and testing (20%) sets\n",
    "X_train, X_test, y_train, y_test = train_test_split(X, y, test_size=0.2, random_state=42, stratify=y)\n",
    "\n",
    "# Verify the shapes\n",
    "print(f\"Training Set: X_train = {X_train.shape}, y_train = {y_train.shape}\")\n",
    "print(f\"Testing Set: X_test = {X_test.shape}, y_test = {y_test.shape}\")"
   ]
  },
  {
   "cell_type": "markdown",
   "id": "45f05b35",
   "metadata": {},
   "source": [
    "## Training Logistic Regression Model\n",
    "\n",
    "* Initializes a Logistic Regression model with balanced class weights.\n",
    "\n",
    "* Trains the model on the preprocessed training dataset.\n",
    "\n",
    "* Provides a baseline for comparison with more complex models.\n"
   ]
  },
  {
   "cell_type": "code",
   "execution_count": 25,
   "id": "3dce65e4",
   "metadata": {},
   "outputs": [
    {
     "name": "stdout",
     "output_type": "stream",
     "text": [
      "Accuracy: 0.7257\n",
      "Precision: 0.4900\n",
      "Recall: 0.7888\n",
      "F1 Score: 0.6045\n",
      "ROC-AUC Score: 0.8354\n"
     ]
    }
   ],
   "source": [
    "# Convert classes to a NumPy array\n",
    "classes = np.array([0, 1])\n",
    "\n",
    "# Compute class weights to handle imbalance\n",
    "class_weights = compute_class_weight(class_weight='balanced', classes=classes, y=y_train)\n",
    "\n",
    "# Convert class weights into a dictionary format\n",
    "class_weight_dict = {0: class_weights[0], 1: class_weights[1]}\n",
    "\n",
    "# Initialize and train the logistic regression model\n",
    "log_reg = LogisticRegression(class_weight=class_weight_dict, max_iter=500, random_state=42)\n",
    "log_reg.fit(X_train, y_train)\n",
    "\n",
    "# Make predictions on the test set\n",
    "y_pred = log_reg.predict(X_test)\n",
    "y_prob = log_reg.predict_proba(X_test)[:, 1]  # Get probability scores for ROC-AUC\n",
    "\n",
    "# Calculate performance metrics\n",
    "accuracy = accuracy_score(y_test, y_pred)\n",
    "precision = precision_score(y_test, y_pred)\n",
    "recall = recall_score(y_test, y_pred)\n",
    "f1 = f1_score(y_test, y_pred)\n",
    "roc_auc = roc_auc_score(y_test, y_prob)\n",
    "\n",
    "# Print results\n",
    "print(f\"Accuracy: {accuracy:.4f}\")\n",
    "print(f\"Precision: {precision:.4f}\")\n",
    "print(f\"Recall: {recall:.4f}\")\n",
    "print(f\"F1 Score: {f1:.4f}\")\n",
    "print(f\"ROC-AUC Score: {roc_auc:.4f}\")"
   ]
  },
  {
   "cell_type": "markdown",
   "id": "f0b40a01",
   "metadata": {},
   "source": [
    "## Training Random Forest Model\n",
    "\n",
    "* Initializes a Random Forest classifier with 100 trees.\n",
    "\n",
    "* Uses class balancing to improve predictions for the minority class (churners).\n",
    "\n",
    "* Fits the model on the training data for performance comparison.\n"
   ]
  },
  {
   "cell_type": "code",
   "execution_count": 14,
   "id": "908cbae5",
   "metadata": {},
   "outputs": [
    {
     "name": "stdout",
     "output_type": "stream",
     "text": [
      "Random Forest - Accuracy: 0.7825\n",
      "Random Forest - Precision: 0.6126\n",
      "Random Forest - Recall: 0.4947\n",
      "Random Forest - F1 Score: 0.5473\n",
      "Random Forest - ROC-AUC Score: 0.8202\n"
     ]
    }
   ],
   "source": [
    "# Initialize Random Forest\n",
    "rf_model = RandomForestClassifier(n_estimators=100, random_state=42, class_weight='balanced')\n",
    "\n",
    "# Train the model\n",
    "rf_model.fit(X_train, y_train)\n",
    "\n",
    "# Make predictions\n",
    "y_pred_rf = rf_model.predict(X_test)\n",
    "y_prob_rf = rf_model.predict_proba(X_test)[:, 1]  # Probabilities for ROC-AUC\n",
    "\n",
    "# Evaluate performance\n",
    "accuracy_rf = accuracy_score(y_test, y_pred_rf)\n",
    "precision_rf = precision_score(y_test, y_pred_rf)\n",
    "recall_rf = recall_score(y_test, y_pred_rf)\n",
    "f1_rf = f1_score(y_test, y_pred_rf)\n",
    "roc_auc_rf = roc_auc_score(y_test, y_prob_rf)\n",
    "\n",
    "# Print results\n",
    "print(f\"Random Forest - Accuracy: {accuracy_rf:.4f}\")\n",
    "print(f\"Random Forest - Precision: {precision_rf:.4f}\")\n",
    "print(f\"Random Forest - Recall: {recall_rf:.4f}\")\n",
    "print(f\"Random Forest - F1 Score: {f1_rf:.4f}\")\n",
    "print(f\"Random Forest - ROC-AUC Score: {roc_auc_rf:.4f}\")"
   ]
  },
  {
   "cell_type": "markdown",
   "id": "89a3d4bc",
   "metadata": {},
   "source": [
    "## Training and Evaluating XGBoost Model\n",
    "\n",
    "* Initializes the **XGBoost model** with `n_estimators=100` and `learning_rate=0.1` for effective training.\n",
    "\n",
    "* Disables label encoding (`use_label_encoder=False`) and sets `eval_metric='logloss'` to optimize the loss function.\n",
    "\n",
    "* Trains the model on the **training dataset (`X_train, y_train`)** to learn from customer data.\n",
    "\n",
    "* Makes predictions on the **test dataset (`X_test`)** and calculates churn probability scores.\n",
    "\n",
    "* Evaluates model performance using key metrics:\n",
    "  - **Accuracy:** Measures overall correctness of predictions.\n",
    "  - **Precision:** Determines how many predicted churn cases are correct.\n",
    "  - **Recall:** Measures the model's ability to detect actual churners.\n",
    "  - **F1 Score:** Balances precision and recall for robust performance.\n",
    "  - **ROC-AUC Score:** Assesses how well the model distinguishes between churners and non-churners.\n",
    "\n",
    "* Prints the evaluation results to assess the model's effectiveness and guide further improvements."
   ]
  },
  {
   "cell_type": "code",
   "execution_count": 15,
   "id": "92f8227c",
   "metadata": {},
   "outputs": [
    {
     "name": "stdout",
     "output_type": "stream",
     "text": [
      "XGBoost - Accuracy: 0.7861\n",
      "XGBoost - Precision: 0.6130\n",
      "XGBoost - Recall: 0.5294\n",
      "XGBoost - F1 Score: 0.5681\n",
      "XGBoost - ROC-AUC Score: 0.8289\n"
     ]
    },
    {
     "name": "stderr",
     "output_type": "stream",
     "text": [
      "C:\\Users\\manus\\anaconda3\\Lib\\site-packages\\xgboost\\core.py:158: UserWarning: [14:55:17] WARNING: C:\\buildkite-agent\\builds\\buildkite-windows-cpu-autoscaling-group-i-0015a694724fa8361-1\\xgboost\\xgboost-ci-windows\\src\\learner.cc:740: \n",
      "Parameters: { \"use_label_encoder\" } are not used.\n",
      "\n",
      "  warnings.warn(smsg, UserWarning)\n"
     ]
    }
   ],
   "source": [
    "# Initialize XGBoost model\n",
    "xgb_model = XGBClassifier(n_estimators=100, learning_rate=0.1, use_label_encoder=False, eval_metric='logloss')\n",
    "\n",
    "# Train the model\n",
    "xgb_model.fit(X_train, y_train)\n",
    "\n",
    "# Make predictions\n",
    "y_pred_xgb = xgb_model.predict(X_test)\n",
    "y_prob_xgb = xgb_model.predict_proba(X_test)[:, 1]\n",
    "\n",
    "# Evaluate performance\n",
    "accuracy_xgb = accuracy_score(y_test, y_pred_xgb)\n",
    "precision_xgb = precision_score(y_test, y_pred_xgb)\n",
    "recall_xgb = recall_score(y_test, y_pred_xgb)\n",
    "f1_xgb = f1_score(y_test, y_pred_xgb)\n",
    "roc_auc_xgb = roc_auc_score(y_test, y_prob_xgb)\n",
    "\n",
    "# Print results\n",
    "print(f\"XGBoost - Accuracy: {accuracy_xgb:.4f}\")\n",
    "print(f\"XGBoost - Precision: {precision_xgb:.4f}\")\n",
    "print(f\"XGBoost - Recall: {recall_xgb:.4f}\")\n",
    "print(f\"XGBoost - F1 Score: {f1_xgb:.4f}\")\n",
    "print(f\"XGBoost - ROC-AUC Score: {roc_auc_xgb:.4f}\")"
   ]
  },
  {
   "cell_type": "markdown",
   "id": "001ec65e",
   "metadata": {},
   "source": [
    "## Feature Engineering for Customer Churn Prediction\n",
    "\n",
    "* Categorizes `tenure` into bins to classify customers as **New (0-12 months), Regular (12-24 months), or Loyal (24+ months)**.\n",
    "\n",
    "* Calculates `AvgSpendPerMonth` by dividing `TotalCharges` by (`tenure` + 1) to avoid division by zero, providing a normalized spending metric.\n",
    "\n",
    "* Creates `StreamingService_Combined`, summing `StreamingTV_Yes` and `StreamingMovies_Yes`, indicating whether a customer subscribes to both services.\n",
    "\n",
    "* Defines a `ChurnRisk_High` indicator, flagging high-risk customers who:\n",
    "  - Spend a lot (MonthlyCharges > 75%)\n",
    "  - Are on a month-to-month contract\n",
    "  - Have a short tenure (< 20% of max tenure)\n",
    "\n",
    "* Verifies new features by displaying the first few rows of the dataset with the engineered columns."
   ]
  },
  {
   "cell_type": "code",
   "execution_count": 16,
   "id": "49dbf803",
   "metadata": {},
   "outputs": [
    {
     "name": "stdout",
     "output_type": "stream",
     "text": [
      "     tenure TenureCategory  AvgSpendPerMonth  StreamingService_Combined  \\\n",
      "0  0.000000            NaN          0.001269                          0   \n",
      "1  0.464789            New          0.147394                          0   \n",
      "2  0.014085            New          0.010241                          0   \n",
      "3  0.619718            New          0.129805                          0   \n",
      "4  0.014085            New          0.015134                          0   \n",
      "\n",
      "   ChurnRisk_High  \n",
      "0               0  \n",
      "1               0  \n",
      "2               0  \n",
      "3               0  \n",
      "4               0  \n"
     ]
    }
   ],
   "source": [
    "# Categorize 'tenure' into bins\n",
    "df['TenureCategory'] = pd.cut(df['tenure'], bins=[0, 12, 24, np.inf], labels=['New', 'Regular', 'Loyal'])\n",
    "\n",
    "# Calculate average spending per month\n",
    "df['AvgSpendPerMonth'] = df['TotalCharges'] / (df['tenure'] + 1)\n",
    "\n",
    "# Create interaction features\n",
    "df['StreamingService_Combined'] = df[['StreamingTV_Yes', 'StreamingMovies_Yes']].sum(axis=1)\n",
    "\n",
    "# Churn risk indicator: High Monthly Charge + Month-to-Month Contract + Short Tenure\n",
    "df['ChurnRisk_High'] = ((df['MonthlyCharges'] > 0.75) &  # High spending\n",
    "                        (df['Contract_One year'] == 0) & (df['Contract_Two year'] == 0) &  # Month-to-month\n",
    "                        (df['tenure'] < 0.2)).astype(int)  # Short tenure\n",
    "\n",
    "# Verify new features\n",
    "print(df[['tenure', 'TenureCategory', 'AvgSpendPerMonth', 'StreamingService_Combined', 'ChurnRisk_High']].head())"
   ]
  },
  {
   "cell_type": "markdown",
   "id": "c158087b",
   "metadata": {},
   "source": [
    "## One-Hot Encoding Tenure Category\n",
    "\n",
    "* One-hot encodes `TenureCategory` to convert categorical labels into numerical form for model compatibility.\n",
    "\n",
    "* Drops the first category to avoid multicollinearity in machine learning models.\n",
    "\n",
    "* Verifies changes by displaying the first few rows of the updated dataset.\n",
    "\n"
   ]
  },
  {
   "cell_type": "code",
   "execution_count": 17,
   "id": "0023d3ec",
   "metadata": {},
   "outputs": [
    {
     "name": "stdout",
     "output_type": "stream",
     "text": [
      "   gender  SeniorCitizen  Partner  Dependents    tenure  PhoneService  \\\n",
      "0       0              0        1           0  0.000000             0   \n",
      "1       1              0        0           0  0.464789             1   \n",
      "2       1              0        0           0  0.014085             1   \n",
      "3       1              0        0           0  0.619718             0   \n",
      "4       0              0        0           0  0.014085             1   \n",
      "\n",
      "   PaperlessBilling  MonthlyCharges  TotalCharges  Churn  ...  \\\n",
      "0                 1            0.11      0.001269      0  ...   \n",
      "1                 0            0.38      0.215901      0  ...   \n",
      "2                 1            0.35      0.010385      1  ...   \n",
      "3                 0            0.24      0.210247      0  ...   \n",
      "4                 1            0.52      0.015347      1  ...   \n",
      "\n",
      "   Contract_One year  Contract_Two year  \\\n",
      "0                  0                  0   \n",
      "1                  1                  0   \n",
      "2                  0                  0   \n",
      "3                  1                  0   \n",
      "4                  0                  0   \n",
      "\n",
      "   PaymentMethod_Credit card (automatic)  PaymentMethod_Electronic check  \\\n",
      "0                                      0                               1   \n",
      "1                                      0                               0   \n",
      "2                                      0                               0   \n",
      "3                                      0                               0   \n",
      "4                                      0                               1   \n",
      "\n",
      "   PaymentMethod_Mailed check  AvgSpendPerMonth  StreamingService_Combined  \\\n",
      "0                           0          0.001269                          0   \n",
      "1                           1          0.147394                          0   \n",
      "2                           1          0.010241                          0   \n",
      "3                           0          0.129805                          0   \n",
      "4                           0          0.015134                          0   \n",
      "\n",
      "   ChurnRisk_High  TenureCategory_Regular  TenureCategory_Loyal  \n",
      "0               0                   False                 False  \n",
      "1               0                   False                 False  \n",
      "2               0                   False                 False  \n",
      "3               0                   False                 False  \n",
      "4               0                   False                 False  \n",
      "\n",
      "[5 rows x 36 columns]\n"
     ]
    }
   ],
   "source": [
    "# One-hot encode 'TenureCategory'\n",
    "df = pd.get_dummies(df, columns=['TenureCategory'], drop_first=True)\n",
    "\n",
    "# Verify changes\n",
    "print(df.head())"
   ]
  },
  {
   "cell_type": "markdown",
   "id": "17e0e839",
   "metadata": {},
   "source": [
    "## Retraining XGBoost and Evaluating Performance\n",
    "\n",
    "* Redefines features (`X`) and target (`y`) to include the newly engineered features while excluding `Churn`.\n",
    "\n",
    "* Splits the updated dataset into **training (80%) and testing (20%)** sets while maintaining class distribution (`stratify=y`).\n",
    "\n",
    "* Retrains the **XGBoost model** on the updated dataset to reflect newly engineered features.\n",
    "\n",
    "* Makes predictions on the test set and calculates probability scores for churn.\n",
    "\n",
    "* Evaluates model performance using key metrics:\n",
    "  - **Accuracy:** Measures overall correctness.\n",
    "  - **Precision:** Ensures fewer false positives.\n",
    "  - **Recall:** Captures actual churn cases.\n",
    "  - **F1 Score:** Balances precision and recall.\n",
    "  - **ROC-AUC Score:** Assesses model discrimination ability.\n",
    "\n",
    "* Displays the updated performance metrics to compare improvements after feature engineering."
   ]
  },
  {
   "cell_type": "code",
   "execution_count": 18,
   "id": "bab1a6d0",
   "metadata": {},
   "outputs": [
    {
     "name": "stdout",
     "output_type": "stream",
     "text": [
      "Updated XGBoost - Accuracy: 0.7932\n",
      "Updated XGBoost - Precision: 0.6246\n",
      "Updated XGBoost - Recall: 0.5561\n",
      "Updated XGBoost - F1 Score: 0.5884\n",
      "Updated XGBoost - ROC-AUC Score: 0.8327\n"
     ]
    },
    {
     "name": "stderr",
     "output_type": "stream",
     "text": [
      "C:\\Users\\manus\\anaconda3\\Lib\\site-packages\\xgboost\\core.py:158: UserWarning: [14:55:17] WARNING: C:\\buildkite-agent\\builds\\buildkite-windows-cpu-autoscaling-group-i-0015a694724fa8361-1\\xgboost\\xgboost-ci-windows\\src\\learner.cc:740: \n",
      "Parameters: { \"use_label_encoder\" } are not used.\n",
      "\n",
      "  warnings.warn(smsg, UserWarning)\n"
     ]
    }
   ],
   "source": [
    "# Define features (X) and target (y) again\n",
    "X = df.drop(columns=['Churn'])  # Exclude target variable\n",
    "y = df['Churn']\n",
    "\n",
    "# Split the updated dataset\n",
    "X_train, X_test, y_train, y_test = train_test_split(X, y, test_size=0.2, random_state=42, stratify=y)\n",
    "\n",
    "# Retrain XGBoost\n",
    "xgb_model.fit(X_train, y_train)\n",
    "\n",
    "# Make predictions\n",
    "y_pred_xgb = xgb_model.predict(X_test)\n",
    "y_prob_xgb = xgb_model.predict_proba(X_test)[:, 1]\n",
    "\n",
    "# Evaluate performance again\n",
    "accuracy_xgb = accuracy_score(y_test, y_pred_xgb)\n",
    "precision_xgb = precision_score(y_test, y_pred_xgb)\n",
    "recall_xgb = recall_score(y_test, y_pred_xgb)\n",
    "f1_xgb = f1_score(y_test, y_pred_xgb)\n",
    "roc_auc_xgb = roc_auc_score(y_test, y_prob_xgb)\n",
    "\n",
    "# Print new results\n",
    "print(f\"Updated XGBoost - Accuracy: {accuracy_xgb:.4f}\")\n",
    "print(f\"Updated XGBoost - Precision: {precision_xgb:.4f}\")\n",
    "print(f\"Updated XGBoost - Recall: {recall_xgb:.4f}\")\n",
    "print(f\"Updated XGBoost - F1 Score: {f1_xgb:.4f}\")\n",
    "print(f\"Updated XGBoost - ROC-AUC Score: {roc_auc_xgb:.4f}\")"
   ]
  },
  {
   "cell_type": "markdown",
   "id": "9097d572",
   "metadata": {},
   "source": [
    "## Hyperparameter Tuning for XGBoost\n",
    "\n",
    "* Defines a **parameter grid** with different values for `n_estimators`, `max_depth`, `learning_rate`, `subsample`, and `colsample_bytree` to find the best configuration.\n",
    "\n",
    "* Initializes the **XGBoost model** with `use_label_encoder=False` and `eval_metric='logloss'` to optimize performance and prevent unnecessary warnings.\n",
    "\n",
    "* Performs **Grid Search with cross-validation (cv=3)** to systematically evaluate different hyperparameter combinations using `f1` as the scoring metric.\n",
    "\n",
    "* Uses `n_jobs=-1` to enable parallel processing and `verbose=2` to display progress updates.\n",
    "\n",
    "* Trains multiple models with different parameter settings and selects the **best-performing combination** based on the highest F1-score.\n",
    "\n",
    "* Prints the **best hyperparameter values** for fine-tuning the XGBoost model.\n",
    "\n"
   ]
  },
  {
   "cell_type": "code",
   "execution_count": 19,
   "id": "8b85af3e",
   "metadata": {},
   "outputs": [
    {
     "name": "stdout",
     "output_type": "stream",
     "text": [
      "Fitting 3 folds for each of 108 candidates, totalling 324 fits\n",
      "Best Parameters: {'colsample_bytree': 0.7, 'learning_rate': 0.2, 'max_depth': 3, 'n_estimators': 50, 'subsample': 0.7}\n"
     ]
    },
    {
     "name": "stderr",
     "output_type": "stream",
     "text": [
      "C:\\Users\\manus\\anaconda3\\Lib\\site-packages\\xgboost\\core.py:158: UserWarning: [14:55:41] WARNING: C:\\buildkite-agent\\builds\\buildkite-windows-cpu-autoscaling-group-i-0015a694724fa8361-1\\xgboost\\xgboost-ci-windows\\src\\learner.cc:740: \n",
      "Parameters: { \"use_label_encoder\" } are not used.\n",
      "\n",
      "  warnings.warn(smsg, UserWarning)\n"
     ]
    }
   ],
   "source": [
    "# Define the parameter grid\n",
    "param_grid = {\n",
    "    'n_estimators': [50, 100, 200],\n",
    "    'max_depth': [3, 5, 7],\n",
    "    'learning_rate': [0.01, 0.1, 0.2],\n",
    "    'subsample': [0.7, 1.0],\n",
    "    'colsample_bytree': [0.7, 1.0]\n",
    "}\n",
    "\n",
    "# Initialize XGBoost model\n",
    "xgb_model = XGBClassifier(use_label_encoder=False, eval_metric='logloss', random_state=42)\n",
    "\n",
    "# Perform Grid Search\n",
    "grid_search = GridSearchCV(xgb_model, param_grid, scoring='f1', cv=3, n_jobs=-1, verbose=2)\n",
    "grid_search.fit(X_train, y_train)\n",
    "\n",
    "# Print the best parameters\n",
    "print(\"Best Parameters:\", grid_search.best_params_)"
   ]
  },
  {
   "cell_type": "markdown",
   "id": "a7e8f318",
   "metadata": {},
   "source": [
    "## Training and Evaluating the Fine-Tuned XGBoost Model\n",
    "\n",
    "* Trains the **final XGBoost model** using the best hyperparameters obtained from Grid Search.\n",
    "\n",
    "* Initializes the model with optimized values while keeping `use_label_encoder=False` and `eval_metric='logloss'` to ensure efficiency.\n",
    "\n",
    "* Fits the model on the **training dataset (X_train, y_train)** to learn from the refined feature set.\n",
    "\n",
    "* Makes predictions on the **test dataset (X_test)** and computes probability scores for churn classification.\n",
    "\n",
    "* Evaluates the fine-tuned model's performance using key metrics:\n",
    "  - **Accuracy:** Measures the overall correctness of predictions.\n",
    "  - **Precision:** Determines the proportion of correctly predicted churners.\n",
    "  - **Recall:** Measures the ability to detect actual churners.\n",
    "  - **F1 Score:** Balances precision and recall.\n",
    "  - **ROC-AUC Score:** Evaluates how well the model distinguishes churners from non-churners.\n",
    "\n",
    "* Prints the updated performance metrics to assess improvements achieved through hyperparameter tuning."
   ]
  },
  {
   "cell_type": "code",
   "execution_count": 20,
   "id": "a38436e6",
   "metadata": {},
   "outputs": [
    {
     "name": "stderr",
     "output_type": "stream",
     "text": [
      "C:\\Users\\manus\\anaconda3\\Lib\\site-packages\\xgboost\\core.py:158: UserWarning: [14:55:41] WARNING: C:\\buildkite-agent\\builds\\buildkite-windows-cpu-autoscaling-group-i-0015a694724fa8361-1\\xgboost\\xgboost-ci-windows\\src\\learner.cc:740: \n",
      "Parameters: { \"use_label_encoder\" } are not used.\n",
      "\n",
      "  warnings.warn(smsg, UserWarning)\n"
     ]
    },
    {
     "name": "stdout",
     "output_type": "stream",
     "text": [
      "Tuned XGBoost - Accuracy: 0.7903\n",
      "Tuned XGBoost - Precision: 0.6254\n",
      "Tuned XGBoost - Recall: 0.5267\n",
      "Tuned XGBoost - F1 Score: 0.5718\n",
      "Tuned XGBoost - ROC-AUC Score: 0.8388\n"
     ]
    }
   ],
   "source": [
    "# Train final model with best parameters\n",
    "best_xgb = XGBClassifier(**grid_search.best_params_, use_label_encoder=False, eval_metric='logloss', random_state=42)\n",
    "best_xgb.fit(X_train, y_train)\n",
    "\n",
    "# Make predictions\n",
    "y_pred_best = best_xgb.predict(X_test)\n",
    "y_prob_best = best_xgb.predict_proba(X_test)[:, 1]\n",
    "\n",
    "# Evaluate the fine-tuned model\n",
    "accuracy_best = accuracy_score(y_test, y_pred_best)\n",
    "precision_best = precision_score(y_test, y_pred_best)\n",
    "recall_best = recall_score(y_test, y_pred_best)\n",
    "f1_best = f1_score(y_test, y_pred_best)\n",
    "roc_auc_best = roc_auc_score(y_test, y_prob_best)\n",
    "\n",
    "# Print results\n",
    "print(f\"Tuned XGBoost - Accuracy: {accuracy_best:.4f}\")\n",
    "print(f\"Tuned XGBoost - Precision: {precision_best:.4f}\")\n",
    "print(f\"Tuned XGBoost - Recall: {recall_best:.4f}\")\n",
    "print(f\"Tuned XGBoost - F1 Score: {f1_best:.4f}\")\n",
    "print(f\"Tuned XGBoost - ROC-AUC Score: {roc_auc_best:.4f}\")"
   ]
  },
  {
   "cell_type": "markdown",
   "id": "90373c21",
   "metadata": {},
   "source": [
    "## Feature Importance Analysis with XGBoost\n",
    "\n",
    "* Extracts **feature importance scores** from the fine-tuned XGBoost model to determine the most influential factors for predicting churn.\n",
    "\n",
    "* Creates a **DataFrame** containing feature names and their corresponding importance scores.\n",
    "\n",
    "* Sorts features in **descending order** to highlight the most impactful variables.\n",
    "\n",
    "* Generates a **bar plot using Seaborn** to visually represent feature importance:\n",
    "  - **X-axis:** Importance score of each feature.\n",
    "  - **Y-axis:** Feature names ranked from most to least important.\n",
    "  - **Title:** Clearly indicates that the visualization represents feature importance for XGBoost.\n",
    "\n",
    "* Displays the final plot to aid in business decision-making and model interpretation."
   ]
  },
  {
   "cell_type": "code",
   "execution_count": 21,
   "id": "7e1f05a8",
   "metadata": {},
   "outputs": [
    {
     "data": {
      "image/png": "[encoded data removed]",
      "text/plain": [
       "<Figure size 1200x1200 with 1 Axes>"
      ]
     },
     "metadata": {},
     "output_type": "display_data"
    }
   ],
   "source": [
    "# Get feature importances from the tuned XGBoost model\n",
    "feature_importances = best_xgb.feature_importances_\n",
    "\n",
    "# Create a DataFrame for visualization\n",
    "importance_df = pd.DataFrame({'Feature': X_train.columns, 'Importance': feature_importances})\n",
    "importance_df = importance_df.sort_values(by='Importance', ascending=False)\n",
    "\n",
    "# Plot feature importances\n",
    "plt.figure(figsize=(12,12))\n",
    "sns.barplot(x=importance_df['Importance'], y=importance_df['Feature'])\n",
    "plt.title(\"Feature Importance (XGBoost)\")\n",
    "plt.xlabel(\"Importance Score\")\n",
    "plt.ylabel(\"Feature\")\n",
    "plt.show()"
   ]
  },
  {
   "cell_type": "markdown",
   "id": "ffe1c613",
   "metadata": {},
   "source": [
    "## Feature Selection and Retraining XGBoost\n",
    "\n",
    "* Identifies **weak features** that contribute minimally to churn prediction based on feature importance scores.\n",
    "\n",
    "* Drops less important features such as `gender`, `Partner`, and certain categorical features related to internet services to simplify the model.\n",
    "\n",
    "* Splits the dataset again to ensure the training and test sets reflect the refined feature set.\n",
    "\n",
    "* Retrains the **XGBoost model** using the reduced feature set to evaluate performance improvements.\n",
    "\n",
    "* Makes predictions on the updated test set and computes churn probability scores.\n",
    "\n",
    "* Evaluates the new model's performance by recalculating key metrics:\n",
    "  - **Accuracy:** Measures overall correctness.\n",
    "  - **Precision:** Determines the proportion of correct churn predictions.\n",
    "  - **Recall:** Measures the ability to detect actual churn cases.\n",
    "  - **F1 Score:** Balances precision and recall.\n",
    "  - **ROC-AUC Score:** Assesses the model's discrimination ability.\n",
    "\n",
    "* Prints the updated performance metrics to compare against the previous model and determine the impact of feature selection."
   ]
  },
  {
   "cell_type": "code",
   "execution_count": 22,
   "id": "1976a60c",
   "metadata": {},
   "outputs": [
    {
     "name": "stdout",
     "output_type": "stream",
     "text": [
      "Reduced XGBoost - Accuracy: 0.7910\n",
      "Reduced XGBoost - Precision: 0.6266\n",
      "Reduced XGBoost - Recall: 0.5294\n",
      "Reduced XGBoost - F1 Score: 0.5739\n",
      "Reduced XGBoost - ROC-AUC Score: 0.8413\n"
     ]
    },
    {
     "name": "stderr",
     "output_type": "stream",
     "text": [
      "C:\\Users\\manus\\anaconda3\\Lib\\site-packages\\xgboost\\core.py:158: UserWarning: [14:55:42] WARNING: C:\\buildkite-agent\\builds\\buildkite-windows-cpu-autoscaling-group-i-0015a694724fa8361-1\\xgboost\\xgboost-ci-windows\\src\\learner.cc:740: \n",
      "Parameters: { \"use_label_encoder\" } are not used.\n",
      "\n",
      "  warnings.warn(smsg, UserWarning)\n"
     ]
    }
   ],
   "source": [
    "# Drop weak features\n",
    "weak_features = ['gender', 'Partner', 'TenureCategory_Loyal', 'TenureCategory_Regular',\n",
    "                 'MultipleLines_No phone service', 'OnlineSecurity_No internet service',\n",
    "                 'OnlineBackup_No internet service', 'TechSupport_No internet service',\n",
    "                 'StreamingTV_No internet service', 'StreamingMovies_No internet service',\n",
    "                 'DeviceProtection_No internet service']\n",
    "\n",
    "df_reduced = df.drop(columns=weak_features)\n",
    "\n",
    "# Split dataset again\n",
    "X_train, X_test, y_train, y_test = train_test_split(df_reduced.drop(columns=['Churn']), df_reduced['Churn'], \n",
    "                                                    test_size=0.2, random_state=42, stratify=df_reduced['Churn'])\n",
    "\n",
    "# Retrain XGBoost\n",
    "best_xgb.fit(X_train, y_train)\n",
    "\n",
    "# Make predictions\n",
    "y_pred_reduced = best_xgb.predict(X_test)\n",
    "y_prob_reduced = best_xgb.predict_proba(X_test)[:, 1]\n",
    "\n",
    "# Evaluate the new model\n",
    "accuracy_reduced = accuracy_score(y_test, y_pred_reduced)\n",
    "precision_reduced = precision_score(y_test, y_pred_reduced)\n",
    "recall_reduced = recall_score(y_test, y_pred_reduced)\n",
    "f1_reduced = f1_score(y_test, y_pred_reduced)\n",
    "roc_auc_reduced = roc_auc_score(y_test, y_prob_reduced)\n",
    "\n",
    "# Print results\n",
    "print(f\"Reduced XGBoost - Accuracy: {accuracy_reduced:.4f}\")\n",
    "print(f\"Reduced XGBoost - Precision: {precision_reduced:.4f}\")\n",
    "print(f\"Reduced XGBoost - Recall: {recall_reduced:.4f}\")\n",
    "print(f\"Reduced XGBoost - F1 Score: {f1_reduced:.4f}\")\n",
    "print(f\"Reduced XGBoost - ROC-AUC Score: {roc_auc_reduced:.4f}\")"
   ]
  },
  {
   "cell_type": "markdown",
   "id": "512c32c8",
   "metadata": {},
   "source": [
    "## Handling Class Imbalance with SMOTE\n",
    "\n",
    "* Applies **Synthetic Minority Over-sampling Technique (SMOTE)** only on the training set to balance class distribution.\n",
    "\n",
    "* Uses a **sampling strategy of 0.5**, meaning the minority class (churners) is resampled to **50% of the majority class**.\n",
    "\n",
    "* Ensures that oversampling is applied only to training data to prevent data leakage into the test set.\n",
    "\n",
    "* Resamples the training dataset (`X_train, y_train`) to generate a more balanced representation (`X_train_smote, y_train_smote`).\n",
    "\n",
    "* Prints the new **class distribution** after SMOTE to verify the effectiveness of balancing."
   ]
  },
  {
   "cell_type": "code",
   "execution_count": 23,
   "id": "5e0f5fdc",
   "metadata": {},
   "outputs": [
    {
     "name": "stdout",
     "output_type": "stream",
     "text": [
      "Class Distribution after SMOTE:\n",
      "Churn\n",
      "0    4130\n",
      "1    2065\n",
      "Name: count, dtype: int64\n"
     ]
    }
   ],
   "source": [
    "# Apply SMOTE only on the training set\n",
    "smote = SMOTE(sampling_strategy=0.5, random_state=42)  # 50% of the majority class\n",
    "X_train_smote, y_train_smote = smote.fit_resample(X_train, y_train)\n",
    "\n",
    "# Check the new class distribution\n",
    "print(\"Class Distribution after SMOTE:\")\n",
    "print(y_train_smote.value_counts())"
   ]
  },
  {
   "cell_type": "markdown",
   "id": "29ea0d7f",
   "metadata": {},
   "source": [
    "## Retraining XGBoost with SMOTE Data\n",
    "\n",
    "* Retrains the **XGBoost model** using the SMOTE-balanced dataset to improve performance on minority class predictions.\n",
    "\n",
    "* Fits the model using the resampled training set (`X_train_smote, y_train_smote`).\n",
    "\n",
    "* Makes predictions on the **original test dataset (X_test)** to evaluate the model's generalization ability.\n",
    "\n",
    "* Computes churn probability scores and evaluates model performance using key metrics:\n",
    "  - **Accuracy:** Measures overall correctness.\n",
    "  - **Precision:** Ensures fewer false churn predictions.\n",
    "  - **Recall:** Captures actual churn cases more effectively.\n",
    "  - **F1 Score:** Balances precision and recall for a holistic evaluation.\n",
    "  - **ROC-AUC Score:** Assesses the model's ability to distinguish between churners and non-churners.\n",
    "\n",
    "* Prints updated **performance metrics** to compare improvements after applying SMOTE balancing."
   ]
  },
  {
   "cell_type": "code",
   "execution_count": 24,
   "id": "8dfced04",
   "metadata": {},
   "outputs": [
    {
     "name": "stdout",
     "output_type": "stream",
     "text": [
      "SMOTE XGBoost - Accuracy: 0.7982\n",
      "SMOTE XGBoost - Precision: 0.6131\n",
      "SMOTE XGBoost - Recall: 0.6524\n",
      "SMOTE XGBoost - F1 Score: 0.6321\n",
      "SMOTE XGBoost - ROC-AUC Score: 0.8386\n"
     ]
    },
    {
     "name": "stderr",
     "output_type": "stream",
     "text": [
      "C:\\Users\\manus\\anaconda3\\Lib\\site-packages\\xgboost\\core.py:158: UserWarning: [14:55:43] WARNING: C:\\buildkite-agent\\builds\\buildkite-windows-cpu-autoscaling-group-i-0015a694724fa8361-1\\xgboost\\xgboost-ci-windows\\src\\learner.cc:740: \n",
      "Parameters: { \"use_label_encoder\" } are not used.\n",
      "\n",
      "  warnings.warn(smsg, UserWarning)\n"
     ]
    }
   ],
   "source": [
    "# Retrain XGBoost with SMOTE data\n",
    "best_xgb.fit(X_train_smote, y_train_smote)\n",
    "\n",
    "# Make predictions\n",
    "y_pred_smote = best_xgb.predict(X_test)\n",
    "y_prob_smote = best_xgb.predict_proba(X_test)[:, 1]\n",
    "\n",
    "# Evaluate the SMOTE model\n",
    "accuracy_smote = accuracy_score(y_test, y_pred_smote)\n",
    "precision_smote = precision_score(y_test, y_pred_smote)\n",
    "recall_smote = recall_score(y_test, y_pred_smote)\n",
    "f1_smote = f1_score(y_test, y_pred_smote)\n",
    "roc_auc_smote = roc_auc_score(y_test, y_prob_smote)\n",
    "\n",
    "# Print results\n",
    "print(f\"SMOTE XGBoost - Accuracy: {accuracy_smote:.4f}\")\n",
    "print(f\"SMOTE XGBoost - Precision: {precision_smote:.4f}\")\n",
    "print(f\"SMOTE XGBoost - Recall: {recall_smote:.4f}\")\n",
    "print(f\"SMOTE XGBoost - F1 Score: {f1_smote:.4f}\")\n",
    "print(f\"SMOTE XGBoost - ROC-AUC Score: {roc_auc_smote:.4f}\")"
   ]
  }
 ],
 "metadata": {
  "kernelspec": {
   "display_name": "Python 3 (ipykernel)",
   "language": "python",
   "name": "python3"
  },
  "language_info": {
   "codemirror_mode": {
    "name": "ipython",
    "version": 3
   },
   "file_extension": ".py",
   "mimetype": "text/x-python",
   "name": "python",
   "nbconvert_exporter": "python",
   "pygments_lexer": "ipython3",
   "version": "3.12.4"
  }
 },
 "nbformat": 4,
 "nbformat_minor": 5
}
